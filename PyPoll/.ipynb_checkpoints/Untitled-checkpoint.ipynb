{
 "cells": [
  {
   "cell_type": "code",
   "execution_count": 13,
   "metadata": {},
   "outputs": [],
   "source": [
    "import os\n",
    "import csv"
   ]
  },
  {
   "cell_type": "code",
   "execution_count": 14,
   "metadata": {},
   "outputs": [],
   "source": [
    "location=\"/Users/buraksavassahin/rep/python-challange/PyPoll/Resources/election_data.csv\""
   ]
  },
  {
   "cell_type": "code",
   "execution_count": 15,
   "metadata": {},
   "outputs": [],
   "source": [
    "data_path=os.path.join(location)"
   ]
  },
  {
   "cell_type": "code",
   "execution_count": 24,
   "metadata": {},
   "outputs": [
    {
     "name": "stdout",
     "output_type": "stream",
     "text": [
      "csv Header: ['Voter ID', 'County', 'Candidate']\n"
     ]
    }
   ],
   "source": [
    "with open(data_path) as data_file:\n",
    "    csvreader = csv.reader(data_file, delimiter=',')\n",
    "    csv_header = next(csvreader)\n",
    "    \n",
    "    print(f\"csv Header: {csv_header}\")\n",
    "    \n",
    "    Voter_ID=[]\n",
    "    County=[]\n",
    "    Candidate=[]\n",
    "    for row in csvreader:\n",
    "        Voter_ID.append(row[0])\n",
    "        County.append(row[1])\n",
    "        Candidate.append(row[2])\n",
    "        \n",
    "    County_Candidate=zip(County,Candidate)\n",
    "    election_dict=dict(zip(Voter_ID,County_Candidate))\n",
    "        "
   ]
  },
  {
   "cell_type": "code",
   "execution_count": 30,
   "metadata": {},
   "outputs": [
    {
     "data": {
      "text/plain": [
       "3521001"
      ]
     },
     "execution_count": 30,
     "metadata": {},
     "output_type": "execute_result"
    }
   ],
   "source": [
    "total_voted=len(election_dict)     ##### question 1\n",
    "total_voted"
   ]
  },
  {
   "cell_type": "code",
   "execution_count": null,
   "metadata": {},
   "outputs": [],
   "source": [
    "```text\n",
    "  Election Results\n",
    "  -------------------------\n",
    "  Total Votes: 3521001\n",
    "  -------------------------\n",
    "  Khan: 63.000% (2218231)\n",
    "  Correy: 20.000% (704200)\n",
    "  Li: 14.000% (492940)\n",
    "  O'Tooley: 3.000% (105630)\n",
    "  -------------------------\n",
    "  Winner: Khan\n",
    "  -------------------------\n",
    "  ```"
   ]
  },
  {
   "cell_type": "code",
   "execution_count": 43,
   "metadata": {},
   "outputs": [],
   "source": [
    "def unique_candidate(_candidate):\n",
    "    unique_candy=[]\n",
    "    for c in _candidate:\n",
    "        if c not in unique_candy:\n",
    "            unique_candy.append(c)\n",
    "    return unique_candidate"
   ]
  },
  {
   "cell_type": "code",
   "execution_count": null,
   "metadata": {},
   "outputs": [],
   "source": []
  },
  {
   "cell_type": "code",
   "execution_count": 51,
   "metadata": {},
   "outputs": [],
   "source": [
    "def vote_counter(_candidate):\n",
    "    k,co,l,t=0,0,0,0\n",
    "\n",
    "    for c in Candidate:\n",
    "        if c==\"Khan\":\n",
    "            k+=1\n",
    "        elif c==\"Correy\":\n",
    "            l+=1\n",
    "        elif c==\"Li\":\n",
    "            co+=1\n",
    "        elif c==\"O'Tooley\":\n",
    "            t+=1    \n",
    "\n",
    "    vote_numbers=[k,co,l,t]\n",
    "    return vote_numbers\n",
    "\n"
   ]
  },
  {
   "cell_type": "code",
   "execution_count": 49,
   "metadata": {},
   "outputs": [
    {
     "name": "stdout",
     "output_type": "stream",
     "text": [
      "Khan =2218231  Correy =492940  Li=704200  O'Tooley=105630\n"
     ]
    }
   ],
   "source": [
    "vote_counter(Candidate)"
   ]
  },
  {
   "cell_type": "code",
   "execution_count": 61,
   "metadata": {},
   "outputs": [],
   "source": [
    "def percentage_calculator(_list):\n",
    "    percentage_list=[]\n",
    "    _list=vote_counter(Candidate)\n",
    "    total_vote=sum(_list)\n",
    "    for i in _list:\n",
    "        percent=round((i/total_vote)*100,2)\n",
    "        percentage_list.append(percent)\n",
    "    return percentage_list\n",
    "        \n",
    "    \n",
    "        \n",
    "        "
   ]
  },
  {
   "cell_type": "code",
   "execution_count": 62,
   "metadata": {},
   "outputs": [
    {
     "data": {
      "text/plain": [
       "[63.0, 14.0, 20.0, 3.0]"
      ]
     },
     "execution_count": 62,
     "metadata": {},
     "output_type": "execute_result"
    }
   ],
   "source": [
    "percentage_calculator(Candidate)"
   ]
  },
  {
   "cell_type": "code",
   "execution_count": 77,
   "metadata": {},
   "outputs": [],
   "source": [
    "def create_election_dict(_list):\n",
    "    candidate=[]\n",
    "    percentage=[]\n",
    "    vote=[]\n",
    "    \n",
    "    candidate=unique_candidate(Candidate)\n",
    "    percentage=percentage_calculator(Candidate)\n",
    "    vote=vote_counter(Candidate)\n",
    "    \n",
    "    percentage_vote=zip(percentage,vote)\n",
    "    created_dict=dict(zip(candidate,percentage_vote))\n",
    "    \n",
    "    print(5)\n",
    "    "
   ]
  },
  {
   "cell_type": "code",
   "execution_count": 78,
   "metadata": {},
   "outputs": [
    {
     "ename": "TypeError",
     "evalue": "'function' object is not iterable",
     "output_type": "error",
     "traceback": [
      "\u001b[0;31m---------------------------------------------------------------------------\u001b[0m",
      "\u001b[0;31mTypeError\u001b[0m                                 Traceback (most recent call last)",
      "\u001b[0;32m<ipython-input-78-bd42e8e38ae9>\u001b[0m in \u001b[0;36m<module>\u001b[0;34m\u001b[0m\n\u001b[0;32m----> 1\u001b[0;31m \u001b[0mcreate_election_dict\u001b[0m\u001b[0;34m(\u001b[0m\u001b[0mCandidate\u001b[0m\u001b[0;34m)\u001b[0m\u001b[0;34m\u001b[0m\u001b[0;34m\u001b[0m\u001b[0m\n\u001b[0m",
      "\u001b[0;32m<ipython-input-77-75bb8009aff1>\u001b[0m in \u001b[0;36mcreate_election_dict\u001b[0;34m(_list)\u001b[0m\n\u001b[1;32m      6\u001b[0m \u001b[0;34m\u001b[0m\u001b[0m\n\u001b[1;32m      7\u001b[0m     \u001b[0mpercentage_vote\u001b[0m\u001b[0;34m=\u001b[0m\u001b[0mzip\u001b[0m\u001b[0;34m(\u001b[0m\u001b[0mpercentage\u001b[0m\u001b[0;34m,\u001b[0m\u001b[0mvote\u001b[0m\u001b[0;34m)\u001b[0m\u001b[0;34m\u001b[0m\u001b[0;34m\u001b[0m\u001b[0m\n\u001b[0;32m----> 8\u001b[0;31m     \u001b[0mcreated_dict\u001b[0m\u001b[0;34m=\u001b[0m\u001b[0mdict\u001b[0m\u001b[0;34m(\u001b[0m\u001b[0mzip\u001b[0m\u001b[0;34m(\u001b[0m\u001b[0mcandidate\u001b[0m\u001b[0;34m,\u001b[0m\u001b[0mpercentage_vote\u001b[0m\u001b[0;34m)\u001b[0m\u001b[0;34m)\u001b[0m\u001b[0;34m\u001b[0m\u001b[0;34m\u001b[0m\u001b[0m\n\u001b[0m\u001b[1;32m      9\u001b[0m \u001b[0;34m\u001b[0m\u001b[0m\n\u001b[1;32m     10\u001b[0m     \u001b[0mprint\u001b[0m\u001b[0;34m(\u001b[0m\u001b[0;36m5\u001b[0m\u001b[0;34m)\u001b[0m\u001b[0;34m\u001b[0m\u001b[0;34m\u001b[0m\u001b[0m\n",
      "\u001b[0;31mTypeError\u001b[0m: 'function' object is not iterable"
     ]
    }
   ],
   "source": [
    "create_election_dict(Candidate)"
   ]
  },
  {
   "cell_type": "code",
   "execution_count": 70,
   "metadata": {},
   "outputs": [],
   "source": [
    "def create_election_dict(_list):\n",
    "    candidate=unique_candidate(Candidate)\n",
    "    percentage=percentage_calculator(Cdandidate)\n",
    "    vote=voteCounter(Candidate)\n",
    "    percentage_vote=zip(percentage, vote)\n",
    "    created_dict=dict(zip(candidate,percentage, vote))\n",
    "    print(created_dict)"
   ]
  },
  {
   "cell_type": "code",
   "execution_count": null,
   "metadata": {},
   "outputs": [],
   "source": []
  }
 ],
 "metadata": {
  "kernelspec": {
   "display_name": "Python 3",
   "language": "python",
   "name": "python3"
  },
  "language_info": {
   "codemirror_mode": {
    "name": "ipython",
    "version": 3
   },
   "file_extension": ".py",
   "mimetype": "text/x-python",
   "name": "python",
   "nbconvert_exporter": "python",
   "pygments_lexer": "ipython3",
   "version": "3.8.3"
  }
 },
 "nbformat": 4,
 "nbformat_minor": 4
}
